{
 "cells": [
  {
   "cell_type": "code",
   "execution_count": 1,
   "id": "5a1779a1-10eb-4518-8ec7-91ae0857d53d",
   "metadata": {},
   "outputs": [
    {
     "data": {
      "text/plain": [
       "(0.38316613653046244, 0.6083015275720578)"
      ]
     },
     "execution_count": 1,
     "metadata": {},
     "output_type": "execute_result"
    }
   ],
   "source": [
    "import sys\n",
    "import os\n",
    "\n",
    "original_sys_path = sys.path.copy()\n",
    "try:\n",
    "    sys.path.insert(0, os.path.abspath(\"..\"))\n",
    "    from src.modeling_helpers import load_trial_data\n",
    "finally:\n",
    "    sys.path = original_sys_path\n",
    "\n",
    "# Load data\n",
    "path_to_data = \"../data/classification/smiles/full_clean\"\n",
    "train_df, val_df, test_df = load_trial_data(path_to_data)\n",
    "\n",
    "from sklearn.metrics import f1_score, balanced_accuracy_score\n",
    "import numpy as np\n",
    "import pandas as pd\n",
    "\n",
    "\n",
    "def compute_baseline_test_performance_(\n",
    "    train_df: pd.DataFrame, test_df: pd.DataFrame\n",
    ") -> (float, float, float):\n",
    "    \"\"\"\n",
    "    Computes the baseline test performance using the majority class from the training set and returns\n",
    "    the micro F1 score, the balanced accuracy score, and the accuracy score of the baseline classifier.\n",
    "\n",
    "    Args:\n",
    "        train_df (pd.DataFrame): The training dataset containing labels.\n",
    "        test_df (pd.DataFrame): The test dataset containing labels.\n",
    "\n",
    "    Returns:\n",
    "        float: The micro F1 score of the baseline classifier.\n",
    "        float: The balanced accuracy score of the baseline classifier.\n",
    "        float: The accuracy score of the baseline classifier.\n",
    "    \"\"\"\n",
    "    # Extract actual labels from the test set\n",
    "    actuals = test_df.drop(\n",
    "        columns=[\"group_description\", \"eligibility_criteria\", \"smiles\"]\n",
    "    ).values\n",
    "\n",
    "    # Calculate the majority class from the training set\n",
    "    train_df_label = train_df.drop(\n",
    "        columns=[\"group_description\", \"eligibility_criteria\", \"smiles\"]\n",
    "    )\n",
    "    majority_classes = (train_df_label.mean() > 0.5).astype(int).values\n",
    "\n",
    "    # Create predictions using majority classes\n",
    "    predictions_majority_class = np.tile(majority_classes, (actuals.shape[0], 1))\n",
    "\n",
    "    # Compute the micro F1 score\n",
    "    f1_score_majority_class = f1_score(\n",
    "        actuals, predictions_majority_class, average=\"micro\"\n",
    "    )\n",
    "\n",
    "    # Compute the balanced accuracy score\n",
    "    balanced_accuracy_majority_class = balanced_accuracy_score(\n",
    "        actuals.ravel(), predictions_majority_class.ravel()\n",
    "    )\n",
    "\n",
    "    return f1_score_majority_class, balanced_accuracy_majority_class\n",
    "\n",
    "\n",
    "# Example usage\n",
    "(\n",
    "    f1_score_majority_class,\n",
    "    balanced_accuracy_majority_class,\n",
    ") = compute_baseline_test_performance_(train_df, test_df)\n",
    "\n",
    "f1_score_majority_class, balanced_accuracy_majority_class"
   ]
  }
 ],
 "metadata": {
  "kernelspec": {
   "display_name": "ctxaiv2",
   "language": "python",
   "name": "ctxaiv2"
  },
  "language_info": {
   "codemirror_mode": {
    "name": "ipython",
    "version": 3
   },
   "file_extension": ".py",
   "mimetype": "text/x-python",
   "name": "python",
   "nbconvert_exporter": "python",
   "pygments_lexer": "ipython3",
   "version": "3.10.12"
  }
 },
 "nbformat": 4,
 "nbformat_minor": 5
}
