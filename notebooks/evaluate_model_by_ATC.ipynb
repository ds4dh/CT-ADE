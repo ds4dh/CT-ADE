{
 "cells": [
  {
   "cell_type": "code",
   "execution_count": 1,
   "id": "ca42a801-78dd-4a57-828e-12bf718eae2a",
   "metadata": {},
   "outputs": [],
   "source": [
    "NUM_LABELS = 27\n",
    "text_max_len = 512\n",
    "smiles_max_len = 512\n",
    "batch_size = 16\n",
    "text_model_name = \"microsoft/BiomedNLP-PubMedBERT-base-uncased-abstract-fulltext\"\n",
    "smiles_model_name = \"DeepChem/ChemBERTa-77M-MLM\"\n",
    "path_to_data = \"../data/classification/smiles/train_augmented\"\n",
    "model_path = \"../models/smiles/train_augmented/all/model.pt\""
   ]
  },
  {
   "cell_type": "code",
   "execution_count": 2,
   "id": "82e6d275-c304-4cd4-9e07-555861fea510",
   "metadata": {},
   "outputs": [],
   "source": [
    "import sys\n",
    "import os\n",
    "\n",
    "original_sys_path = sys.path.copy()\n",
    "try:\n",
    "    sys.path.insert(0, os.path.abspath(\"..\"))\n",
    "    from src.modeling_helpers import *\n",
    "finally:\n",
    "    sys.path = original_sys_path\n",
    "\n",
    "\n",
    "def load_trial_data_eval_drug_class(path):\n",
    "\n",
    "    # File paths for train, validation, and test datasets\n",
    "    train_path = os.path.join(path, \"train.csv\")\n",
    "    val_path = os.path.join(path, \"val.csv\")\n",
    "    test_path = os.path.join(path, \"test.csv\")\n",
    "\n",
    "    # Columns to be dropped from the datasets\n",
    "    to_drop = [\n",
    "        \"nctid\",\n",
    "        \"group_id\",\n",
    "        \"title\",\n",
    "        \"intervention_name\",\n",
    "        \"intervention_name_drugbank\",\n",
    "        \"type\",\n",
    "        \"kingdom\",\n",
    "        \"sequence\",\n",
    "        \"is_placebo\",\n",
    "        \"contain_placebo\",\n",
    "    ]\n",
    "\n",
    "    # Load and process the training data\n",
    "    train_df = pd.read_csv(train_path).drop(columns=to_drop)\n",
    "\n",
    "    # Load and process the validation data\n",
    "    val_df = pd.read_csv(val_path).drop(columns=to_drop)\n",
    "\n",
    "    # Load and process the test data\n",
    "    test_df = pd.read_csv(test_path).drop(columns=to_drop)\n",
    "\n",
    "    return train_df, val_df, test_df"
   ]
  },
  {
   "cell_type": "code",
   "execution_count": 3,
   "id": "c6ddad54-e0d1-4b2a-a58c-8b5114061498",
   "metadata": {},
   "outputs": [
    {
     "name": "stderr",
     "output_type": "stream",
     "text": [
      "Some weights of RobertaModel were not initialized from the model checkpoint at DeepChem/ChemBERTa-77M-MLM and are newly initialized: ['roberta.pooler.dense.bias', 'roberta.pooler.dense.weight']\n",
      "You should probably TRAIN this model on a down-stream task to be able to use it for predictions and inference.\n"
     ]
    },
    {
     "data": {
      "application/vnd.jupyter.widget-view+json": {
       "model_id": "e6793590361d4205919f154d49c6445c",
       "version_major": 2,
       "version_minor": 0
      },
      "text/plain": [
       "  0%|          | 0/13 [00:00<?, ?it/s]"
      ]
     },
     "metadata": {},
     "output_type": "display_data"
    },
    {
     "data": {
      "application/vnd.jupyter.widget-view+json": {
       "model_id": "",
       "version_major": 2,
       "version_minor": 0
      },
      "text/plain": [
       "Epoch 1/0:   0%|          | 0/5 [00:00<?, ?it/s]"
      ]
     },
     "metadata": {},
     "output_type": "display_data"
    },
    {
     "data": {
      "application/vnd.jupyter.widget-view+json": {
       "model_id": "",
       "version_major": 2,
       "version_minor": 0
      },
      "text/plain": [
       "Epoch 1/0:   0%|          | 0/3 [00:00<?, ?it/s]"
      ]
     },
     "metadata": {},
     "output_type": "display_data"
    },
    {
     "data": {
      "application/vnd.jupyter.widget-view+json": {
       "model_id": "",
       "version_major": 2,
       "version_minor": 0
      },
      "text/plain": [
       "Epoch 1/0:   0%|          | 0/4 [00:00<?, ?it/s]"
      ]
     },
     "metadata": {},
     "output_type": "display_data"
    },
    {
     "data": {
      "application/vnd.jupyter.widget-view+json": {
       "model_id": "",
       "version_major": 2,
       "version_minor": 0
      },
      "text/plain": [
       "Epoch 1/0:   0%|          | 0/4 [00:00<?, ?it/s]"
      ]
     },
     "metadata": {},
     "output_type": "display_data"
    },
    {
     "data": {
      "application/vnd.jupyter.widget-view+json": {
       "model_id": "",
       "version_major": 2,
       "version_minor": 0
      },
      "text/plain": [
       "Epoch 1/0:   0%|          | 0/1 [00:00<?, ?it/s]"
      ]
     },
     "metadata": {},
     "output_type": "display_data"
    },
    {
     "data": {
      "application/vnd.jupyter.widget-view+json": {
       "model_id": "",
       "version_major": 2,
       "version_minor": 0
      },
      "text/plain": [
       "Epoch 1/0:   0%|          | 0/3 [00:00<?, ?it/s]"
      ]
     },
     "metadata": {},
     "output_type": "display_data"
    },
    {
     "data": {
      "application/vnd.jupyter.widget-view+json": {
       "model_id": "",
       "version_major": 2,
       "version_minor": 0
      },
      "text/plain": [
       "Epoch 1/0:   0%|          | 0/2 [00:00<?, ?it/s]"
      ]
     },
     "metadata": {},
     "output_type": "display_data"
    },
    {
     "data": {
      "application/vnd.jupyter.widget-view+json": {
       "model_id": "",
       "version_major": 2,
       "version_minor": 0
      },
      "text/plain": [
       "Epoch 1/0:   0%|          | 0/5 [00:00<?, ?it/s]"
      ]
     },
     "metadata": {},
     "output_type": "display_data"
    },
    {
     "data": {
      "application/vnd.jupyter.widget-view+json": {
       "model_id": "",
       "version_major": 2,
       "version_minor": 0
      },
      "text/plain": [
       "Epoch 1/0:   0%|          | 0/14 [00:00<?, ?it/s]"
      ]
     },
     "metadata": {},
     "output_type": "display_data"
    },
    {
     "data": {
      "application/vnd.jupyter.widget-view+json": {
       "model_id": "",
       "version_major": 2,
       "version_minor": 0
      },
      "text/plain": [
       "Epoch 1/0:   0%|          | 0/6 [00:00<?, ?it/s]"
      ]
     },
     "metadata": {},
     "output_type": "display_data"
    },
    {
     "data": {
      "application/vnd.jupyter.widget-view+json": {
       "model_id": "",
       "version_major": 2,
       "version_minor": 0
      },
      "text/plain": [
       "Epoch 1/0:   0%|          | 0/1 [00:00<?, ?it/s]"
      ]
     },
     "metadata": {},
     "output_type": "display_data"
    },
    {
     "data": {
      "application/vnd.jupyter.widget-view+json": {
       "model_id": "",
       "version_major": 2,
       "version_minor": 0
      },
      "text/plain": [
       "Epoch 1/0:   0%|          | 0/2 [00:00<?, ?it/s]"
      ]
     },
     "metadata": {},
     "output_type": "display_data"
    },
    {
     "data": {
      "application/vnd.jupyter.widget-view+json": {
       "model_id": "",
       "version_major": 2,
       "version_minor": 0
      },
      "text/plain": [
       "Epoch 1/0:   0%|          | 0/4 [00:00<?, ?it/s]"
      ]
     },
     "metadata": {},
     "output_type": "display_data"
    },
    {
     "data": {
      "text/html": [
       "<div>\n",
       "<style scoped>\n",
       "    .dataframe tbody tr th:only-of-type {\n",
       "        vertical-align: middle;\n",
       "    }\n",
       "\n",
       "    .dataframe tbody tr th {\n",
       "        vertical-align: top;\n",
       "    }\n",
       "\n",
       "    .dataframe thead th {\n",
       "        text-align: right;\n",
       "    }\n",
       "</style>\n",
       "<table border=\"1\" class=\"dataframe\">\n",
       "  <thead>\n",
       "    <tr style=\"text-align: right;\">\n",
       "      <th></th>\n",
       "      <th>Support</th>\n",
       "      <th>F1 Micro</th>\n",
       "      <th>Balanced Accuracy</th>\n",
       "    </tr>\n",
       "  </thead>\n",
       "  <tbody>\n",
       "    <tr>\n",
       "      <th>[NOATCM]</th>\n",
       "      <td>65.0</td>\n",
       "      <td>71.87</td>\n",
       "      <td>81.51</td>\n",
       "    </tr>\n",
       "    <tr>\n",
       "      <th>Alimentary tract and metabolism</th>\n",
       "      <td>44.0</td>\n",
       "      <td>68.53</td>\n",
       "      <td>78.67</td>\n",
       "    </tr>\n",
       "    <tr>\n",
       "      <th>Blood and blood forming organs</th>\n",
       "      <td>49.0</td>\n",
       "      <td>73.09</td>\n",
       "      <td>76.76</td>\n",
       "    </tr>\n",
       "    <tr>\n",
       "      <th>Cardiovascular system</th>\n",
       "      <td>51.0</td>\n",
       "      <td>78.48</td>\n",
       "      <td>84.41</td>\n",
       "    </tr>\n",
       "    <tr>\n",
       "      <th>Dermatologicals</th>\n",
       "      <td>16.0</td>\n",
       "      <td>52.75</td>\n",
       "      <td>73.82</td>\n",
       "    </tr>\n",
       "    <tr>\n",
       "      <th>Genito urinary system and sex hormones</th>\n",
       "      <td>33.0</td>\n",
       "      <td>62.50</td>\n",
       "      <td>76.80</td>\n",
       "    </tr>\n",
       "    <tr>\n",
       "      <th>Systemic hormonal preparations, excl. sex hormones and insulins</th>\n",
       "      <td>21.0</td>\n",
       "      <td>73.46</td>\n",
       "      <td>79.62</td>\n",
       "    </tr>\n",
       "    <tr>\n",
       "      <th>Antiinfectives for systemic use</th>\n",
       "      <td>73.0</td>\n",
       "      <td>63.00</td>\n",
       "      <td>75.91</td>\n",
       "    </tr>\n",
       "    <tr>\n",
       "      <th>Antineoplastic and immunomodulating agents</th>\n",
       "      <td>211.0</td>\n",
       "      <td>77.67</td>\n",
       "      <td>79.90</td>\n",
       "    </tr>\n",
       "    <tr>\n",
       "      <th>Nervous system</th>\n",
       "      <td>92.0</td>\n",
       "      <td>73.98</td>\n",
       "      <td>82.80</td>\n",
       "    </tr>\n",
       "    <tr>\n",
       "      <th>Respiratory system</th>\n",
       "      <td>13.0</td>\n",
       "      <td>56.92</td>\n",
       "      <td>75.92</td>\n",
       "    </tr>\n",
       "    <tr>\n",
       "      <th>Sensory organs</th>\n",
       "      <td>20.0</td>\n",
       "      <td>50.00</td>\n",
       "      <td>72.10</td>\n",
       "    </tr>\n",
       "    <tr>\n",
       "      <th>Various</th>\n",
       "      <td>62.0</td>\n",
       "      <td>69.65</td>\n",
       "      <td>80.24</td>\n",
       "    </tr>\n",
       "  </tbody>\n",
       "</table>\n",
       "</div>"
      ],
      "text/plain": [
       "                                                    Support  F1 Micro  \\\n",
       "[NOATCM]                                               65.0     71.87   \n",
       "Alimentary tract and metabolism                        44.0     68.53   \n",
       "Blood and blood forming organs                         49.0     73.09   \n",
       "Cardiovascular system                                  51.0     78.48   \n",
       "Dermatologicals                                        16.0     52.75   \n",
       "Genito urinary system and sex hormones                 33.0     62.50   \n",
       "Systemic hormonal preparations, excl. sex hormo...     21.0     73.46   \n",
       "Antiinfectives for systemic use                        73.0     63.00   \n",
       "Antineoplastic and immunomodulating agents            211.0     77.67   \n",
       "Nervous system                                         92.0     73.98   \n",
       "Respiratory system                                     13.0     56.92   \n",
       "Sensory organs                                         20.0     50.00   \n",
       "Various                                                62.0     69.65   \n",
       "\n",
       "                                                    Balanced Accuracy  \n",
       "[NOATCM]                                                        81.51  \n",
       "Alimentary tract and metabolism                                 78.67  \n",
       "Blood and blood forming organs                                  76.76  \n",
       "Cardiovascular system                                           84.41  \n",
       "Dermatologicals                                                 73.82  \n",
       "Genito urinary system and sex hormones                          76.80  \n",
       "Systemic hormonal preparations, excl. sex hormo...              79.62  \n",
       "Antiinfectives for systemic use                                 75.91  \n",
       "Antineoplastic and immunomodulating agents                      79.90  \n",
       "Nervous system                                                  82.80  \n",
       "Respiratory system                                              75.92  \n",
       "Sensory organs                                                  72.10  \n",
       "Various                                                         80.24  "
      ]
     },
     "execution_count": 3,
     "metadata": {},
     "output_type": "execute_result"
    }
   ],
   "source": [
    "import warnings\n",
    "\n",
    "# Suppress all warnings\n",
    "warnings.filterwarnings(\"ignore\")\n",
    "\n",
    "# Instansiate tokenizers\n",
    "group_desc_tokenizer = AutoTokenizer.from_pretrained(text_model_name)\n",
    "eligibility_tokenizer = AutoTokenizer.from_pretrained(text_model_name)\n",
    "smiles_tokenizer = AutoTokenizer.from_pretrained(smiles_model_name)\n",
    "smiles_tokenizer.add_tokens([\"[PLACEBO]\", \"[NOSMILES]\"])\n",
    "smiles_tokenizer_len = len(smiles_tokenizer)\n",
    "\n",
    "model = MultilabelModel(\n",
    "    text_model_name, smiles_model_name, smiles_tokenizer_len, NUM_LABELS\n",
    ")\n",
    "\n",
    "# Load the model state dictionary\n",
    "model.load_state_dict(torch.load(model_path))\n",
    "\n",
    "# Set the model to evaluation mode\n",
    "model.eval()\n",
    "\n",
    "# If you're using a specific device (e.g., GPU), ensure to move the model to the device\n",
    "device = torch.device(\"cuda:0\" if torch.cuda.is_available() else \"cpu\")\n",
    "model.to(device)\n",
    "\n",
    "train_df, val_df, test_df = load_trial_data_eval_drug_class(path_to_data)\n",
    "\n",
    "atc_test_groups = test_df.groupby(\"atc_anatomical_main_group\")\n",
    "\n",
    "results = {}\n",
    "\n",
    "for atc_main, group in tqdm(atc_test_groups):\n",
    "\n",
    "    group_copy = group.copy()\n",
    "    group_copy.drop(\"atc_anatomical_main_group\", axis=1, inplace=True)\n",
    "    group_copy.reset_index(drop=True, inplace=True)\n",
    "    # Test datasets\n",
    "    test_dataset = CustomDataset(\n",
    "        group_copy,\n",
    "        group_desc_tokenizer,\n",
    "        eligibility_tokenizer,\n",
    "        smiles_tokenizer,\n",
    "        text_max_len,\n",
    "        smiles_max_len,\n",
    "    )\n",
    "    test_dataloader = DataLoader(\n",
    "        test_dataset, batch_size=batch_size, shuffle=False, collate_fn=custom_collate_fn\n",
    "    )\n",
    "    # Run validation (or testing in this context)\n",
    "    test_metrics = validate_full(model, test_dataloader, device, 0, 0)\n",
    "\n",
    "    # Unpack your test metrics\n",
    "    f1_micro, _, _, _, _, overall_BalancedAccuracy, _, _, _, _, _, _ = test_metrics\n",
    "\n",
    "    # Store metrics in the results dictionary for each atc_main\n",
    "    results[atc_main] = {\n",
    "        \"Support\": len(group_copy),\n",
    "        \"F1 Micro\": f1_micro,\n",
    "        \"Balanced Accuracy\": overall_BalancedAccuracy,\n",
    "    }\n",
    "\n",
    "atc_labels = {\n",
    "    \"[NOATCM]\": \"[NOATCM]\",\n",
    "    \"a\": \"Alimentary tract and metabolism\",\n",
    "    \"b\": \"Blood and blood forming organs\",\n",
    "    \"c\": \"Cardiovascular system\",\n",
    "    \"d\": \"Dermatologicals\",\n",
    "    \"g\": \"Genito urinary system and sex hormones\",\n",
    "    \"h\": \"Systemic hormonal preparations, excl. sex hormones and insulins\",\n",
    "    \"j\": \"Antiinfectives for systemic use\",\n",
    "    \"l\": \"Antineoplastic and immunomodulating agents\",\n",
    "    \"m\": \"Musculo-skeletal system\",\n",
    "    \"n\": \"Nervous system\",\n",
    "    \"p\": \"Antiparasitic products, insecticides and repellents\",\n",
    "    \"r\": \"Respiratory system\",\n",
    "    \"s\": \"Sensory organs\",\n",
    "    \"v\": \"Various\",\n",
    "}\n",
    "result_df = pd.DataFrame(results)\n",
    "result_df.iloc()[1:, :] = round(result_df.iloc()[1:, :] * 100, 2)\n",
    "result_df.columns = [atc_labels[i] for i in result_df.columns]\n",
    "warnings.filterwarnings(\"default\")\n",
    "result_df.T"
   ]
  }
 ],
 "metadata": {
  "kernelspec": {
   "display_name": "ctxaiv2",
   "language": "python",
   "name": "ctxaiv2"
  },
  "language_info": {
   "codemirror_mode": {
    "name": "ipython",
    "version": 3
   },
   "file_extension": ".py",
   "mimetype": "text/x-python",
   "name": "python",
   "nbconvert_exporter": "python",
   "pygments_lexer": "ipython3",
   "version": "3.10.12"
  }
 },
 "nbformat": 4,
 "nbformat_minor": 5
}
